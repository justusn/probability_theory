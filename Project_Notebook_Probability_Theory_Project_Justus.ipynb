{
  "nbformat": 4,
  "nbformat_minor": 0,
  "metadata": {
    "colab": {
      "name": "Project Notebook: Probability Theory Project Justus",
      "provenance": [],
      "collapsed_sections": [
        "v0hSZ5H6yXMY",
        "aaWPTVSH1vWD",
        "mIj2T79O3sWu",
        "u5PklErZ7FQ3"
      ],
      "toc_visible": true
    },
    "kernelspec": {
      "name": "python3",
      "display_name": "Python 3"
    },
    "language_info": {
      "name": "python"
    }
  },
  "cells": [
    {
      "cell_type": "markdown",
      "source": [
        "# Project Notebook: Probability Project"
      ],
      "metadata": {
        "id": "pB0BzCAEyS7u"
      }
    },
    {
      "cell_type": "markdown",
      "source": [
        "## 1. Introduction"
      ],
      "metadata": {
        "id": "v0hSZ5H6yXMY"
      }
    },
    {
      "cell_type": "markdown",
      "source": [
        "We've come a long way and learned:\n",
        "\n",
        "* How to calculate theoretical and empirical probabilities.\n",
        "* How to use probability rules to solve probability problems.\n",
        "* How to use combinations and permutations.\n",
        "\n",
        "To make learning easier for you, we taught these topics in isolation. In this guided project, however, we put everything together to contribute to the development of a mobile app that is meant to help lottery addicts better estimate their chances of winning.\n",
        "\n",
        "Many people start playing the lottery for fun, but for some this activity turns into a habit which eventually escalates into addiction. Like other compulsive gamblers, lottery addicts soon begin spending from their savings and loans, they start to accumulate debts, and eventually engage in desperate behaviors like theft.\n",
        "\n",
        "A medical institute that aims to prevent and treat gambling addictions wants to build a dedicated mobile app to help lottery addicts better estimate their chances of winning. The institute has a team of engineers that will build the app, but they need us to create the logical core of the app and calculate probabilities.\n",
        "\n",
        "For the first version of the app, they want us to focus on the 6/49 lottery and build functions that enable users to answer questions like:\n",
        "\n",
        "* What is the probability of winning the big prize with a single ticket?\n",
        "* What is the probability of winning the big prize if we play 40 different tickets (or any other number)?\n",
        "* What is the probability of having at least five (or four, or three, or two) winning numbers on a single ticket?\n",
        "\n",
        "The institute also wants us to consider historical data coming from the national 6/49 lottery game in Canada. The data set (https://bit.ly/3dDaWQj) has data for 3,665 drawings, dating from 1982 to 2018 (we'll come back to this).\n",
        "\n",
        "The scenario we're following throughout this project is fictional — the main purpose is to practice applying the concepts we learned in a setting that simulates a real-world scenario."
      ],
      "metadata": {
        "id": "ehzs3mbXyYnd"
      }
    },
    {
      "cell_type": "markdown",
      "source": [
        "## 2. Core Functions"
      ],
      "metadata": {
        "id": "aaWPTVSH1vWD"
      }
    },
    {
      "cell_type": "markdown",
      "source": [
        "We saw our goal is to write code that can enable users to answer probability questions about playing the lottery. Throughout the project, we'll need to calculate repeatedly probabilities and combinations. As a consequence, we'll start by writing two functions that we'll use often:\n",
        "\n",
        "A function that calculates factorials; and\n",
        "A function that calculates combinations.\n",
        "To calculate factorials, this is the formula we learned we need to use:\n",
        "\n",
        "```\n",
        "n!=n×(n−1)×(n−2)×...×2×1\n",
        "```\n",
        "\n",
        "In the 6/49 lottery, six numbers are drawn from a set of 49 numbers that range from 1 to 49. The drawing is done without replacement, which means once a number is drawn, it's not put back in the set.\n",
        "\n",
        "To find the number of combinations when we're sampling without replacement and taking only k objects from a group of n objects, we can use the formula. \n",
        "\n",
        "Now let's start coding the two functions. \n",
        "\n",
        "**Task**\n",
        "\n",
        "* Write a function named `factorial()` which takes as input a number n and computes the factorial of that number n. \n",
        "\n",
        "* Write a function named `combinations()` which takes in two inputs (n and k) and outputs the number of combinations when we're taking only k objects from a group of n objects. "
      ],
      "metadata": {
        "id": "8xOOPG0N16Nn"
      }
    },
    {
      "cell_type": "code",
      "source": [
        "def factorial(n):\n",
        "  fact_n = 1\n",
        "  if n<0:\n",
        "    fact_n = 0\n",
        "  else:\n",
        "    while n>1:\n",
        "      fact_n  = fact_n * n\n",
        "      n-=1\n",
        "  return fact_n"
      ],
      "metadata": {
        "id": "NuSGK-552bQs"
      },
      "execution_count": 2,
      "outputs": []
    },
    {
      "cell_type": "code",
      "source": [
        "print(factorial(5))"
      ],
      "metadata": {
        "colab": {
          "base_uri": "https://localhost:8080/"
        },
        "id": "fa-Fqqwcsbnd",
        "outputId": "35053c7a-db4d-48c1-fe1d-50367f7ae65b"
      },
      "execution_count": 25,
      "outputs": [
        {
          "output_type": "stream",
          "name": "stdout",
          "text": [
            "120\n"
          ]
        }
      ]
    },
    {
      "cell_type": "code",
      "source": [
        "def combinations(n,r):\n",
        "  comb_n_r = 1\n",
        "  if n<=0 or r<=0:\n",
        "    comb_n_r = 0\n",
        "  elif n<r:\n",
        "    comb_n_r = 0\n",
        "  else :\n",
        "    comb_n_r = factorial(n)/(factorial(r)*factorial(n-r))\n",
        "  \n",
        "  return comb_n_r\n",
        "\n"
      ],
      "metadata": {
        "id": "ij9XGTG_us_0"
      },
      "execution_count": 3,
      "outputs": []
    },
    {
      "cell_type": "code",
      "source": [
        "print(combinations(20,5))"
      ],
      "metadata": {
        "colab": {
          "base_uri": "https://localhost:8080/"
        },
        "id": "VNndMGdHv2bf",
        "outputId": "38836ddd-f7ac-4dcb-e9ae-91249c287c48"
      },
      "execution_count": 38,
      "outputs": [
        {
          "output_type": "stream",
          "name": "stdout",
          "text": [
            "15504.0\n"
          ]
        }
      ]
    },
    {
      "cell_type": "markdown",
      "source": [
        "## 3. One-ticket Probability"
      ],
      "metadata": {
        "id": "aFEVgn-02dXz"
      }
    },
    {
      "cell_type": "markdown",
      "source": [
        "We focused on writing `factorial()` and `combinations()`, two core functions that we're going to need repeatedly moving forward. We'll now focus on writing a function that calculates the probability of winning the big prize.\n",
        "\n",
        "In the 6/49 lottery, six numbers are drawn from a set of 49 numbers that range from 1 to 49. A player wins the big prize if the six numbers on their tickets match all the six numbers drawn. If a player has a ticket with the numbers {13, 22, 24, 27, 42, 44}, he only wins the big prize if the numbers drawn are {13, 22, 24, 27, 42, 44}. If only one number differs, he doesn't win.\n",
        "\n",
        "For the first version of the app, we want players to be able to calculate the probability of winning the big prize with the various numbers they play on a single ticket (for each ticket a player chooses six numbers out of 49). So, we'll start by building a function that calculates the probability of winning the big prize for any given ticket.\n",
        "\n",
        "We discussed with the engineering team of the medical institute, and they told us we need to be aware of the following details when we write the function:\n",
        "\n",
        "* Inside the app, the user inputs six different numbers from 1 to 49.\n",
        "* Under the hood, the six numbers will come as a Python list, which will serve as the single input to our function.\n",
        "* The engineering team wants the function to print the probability value in a friendly way — in a way that people without any probability training are able to understand.\n",
        "\n",
        "Let's try to write this function!\n",
        "\n",
        "**Tasks**\n",
        "\n",
        "1. Write a function named `one_ticket_probability()`, which takes in a list of six unique numbers and prints the probability of winning in a way that's easy to understand.\n",
        "\n",
        "* Start by calculating the total number of possible outcomes — this is total number of combinations for a six-number lottery ticket. There are 49 possible numbers, and six numbers are sampled without replacement. Use the `combinations()` function you wrote.\n",
        "* The user inputs just one combination, which means the number of successful outcomes is 1.\n",
        "* Use the number of successful outcomes and the total number of possible outcomes to calculate the probability for one ticket.\n",
        "* The function should print the probability in a way that's easy to understand. It's up to you what you choose, but here are a few suggestions:\n",
        "Print the probability as a percentage.\n",
        "Use the `str.format()` method to make the printed message more personalized with respect to what the user inputs.\n",
        "\n",
        "2. Test your function using a few inputs.\n",
        "\n",
        "3. Add some context for your readers to explain what you did in this step and why."
      ],
      "metadata": {
        "id": "JQi_VEOY2gU3"
      }
    },
    {
      "cell_type": "code",
      "source": [
        "def one_ticket_probability(ticket):\n",
        "  total_outcomes = combinations(49,len(ticket))\n",
        "  win_probability = \"{:.8f}\".format((1/total_outcomes)*100)\n",
        "  return \"The chance of your ticket [{n1}, {n2}, {n3}, {n4}, {n5}, {n6}] winning is {probability}%. Good Luck !\".format(probability = win_probability, n1 = ticket[0], n2 = ticket[1], n3 = ticket[2], n4 = ticket[3]\n",
        "                                                            , n5 = ticket[4], n6 = ticket[5]) \n"
      ],
      "metadata": {
        "id": "-zFCSH2R3DN2"
      },
      "execution_count": 5,
      "outputs": []
    },
    {
      "cell_type": "code",
      "source": [
        "print (one_ticket_probability([12,4,5,8,10,4]))  "
      ],
      "metadata": {
        "colab": {
          "base_uri": "https://localhost:8080/"
        },
        "id": "gI5SVbDAROx8",
        "outputId": "083c265d-4465-42be-d66b-506b49b8ae5c"
      },
      "execution_count": 6,
      "outputs": [
        {
          "output_type": "stream",
          "name": "stdout",
          "text": [
            "The chance of your ticket [12, 4, 5, 8, 10, 4] winning is 0.00000715%. Good Luck !\n"
          ]
        }
      ]
    },
    {
      "cell_type": "code",
      "source": [
        "num=1/1499948585\n",
        "output = \"{:.7f}\".format(num)\n",
        "print(output)"
      ],
      "metadata": {
        "colab": {
          "base_uri": "https://localhost:8080/"
        },
        "id": "gFDtfhcG3IZC",
        "outputId": "bf17022d-1e30-48a8-a45f-278b2ed6cc9d"
      },
      "execution_count": 81,
      "outputs": [
        {
          "output_type": "stream",
          "name": "stdout",
          "text": [
            "0.0000000\n"
          ]
        }
      ]
    },
    {
      "cell_type": "markdown",
      "source": [
        "## 4. Historical Data Check for Canada Lottery"
      ],
      "metadata": {
        "id": "21QYEfb93GMo"
      }
    },
    {
      "cell_type": "markdown",
      "source": [
        "We've written a function that can tell users what is the probability of winning the big prize with a single ticket. For the first version of the app, however, users should also be able to compare their ticket against the historical lottery data in Canada and determine whether they would have ever won by now.\n",
        "\n",
        "Next, we'll focus on exploring the historical data coming from the Canada 6/49 lottery.\n",
        "\n",
        "The data set contains historical data for 3,665 drawings (each row shows data for a single drawing), dating from 1982 to 2018. For each drawing, we can find the six numbers drawn in the following six columns:\n",
        "\n",
        "* `NUMBER DRAWN 1`\n",
        "* `NUMBER DRAWN 2`\n",
        "* `NUMBER DRAWN 3`\n",
        "* `NUMBER DRAWN 4`\n",
        "* `NUMBER DRAWN 5`\n",
        "* `NUMBER DRAWN 6`\n",
        "\n",
        "Let's now write some code to open this data set and get familiar with its structure.\n",
        "\n",
        "**Tasks**\n",
        "\n",
        "* Open the `649.csv` file and save it as a pandas DataFrame.\n",
        "* Print the number of rows and columns of this data set.\n",
        "* Print the first and the last three rows and try to get familiar with the data set."
      ],
      "metadata": {
        "id": "nBAD--X23KmJ"
      }
    },
    {
      "cell_type": "code",
      "source": [
        "import pandas as pd\n",
        "import numpy as np\n",
        "\n",
        "df = pd.read_csv(\"https://bit.ly/3dDaWQj\")\n",
        "\n",
        "df.head(3)"
      ],
      "metadata": {
        "id": "Yu8ry4n_3qYK",
        "colab": {
          "base_uri": "https://localhost:8080/",
          "height": 205
        },
        "outputId": "1f7856e6-6315-42f5-d26e-1641361803c7"
      },
      "execution_count": 15,
      "outputs": [
        {
          "output_type": "execute_result",
          "data": {
            "text/html": [
              "\n",
              "  <div id=\"df-cb15fbad-27c6-4b64-8712-aded6f58b0c3\">\n",
              "    <div class=\"colab-df-container\">\n",
              "      <div>\n",
              "<style scoped>\n",
              "    .dataframe tbody tr th:only-of-type {\n",
              "        vertical-align: middle;\n",
              "    }\n",
              "\n",
              "    .dataframe tbody tr th {\n",
              "        vertical-align: top;\n",
              "    }\n",
              "\n",
              "    .dataframe thead th {\n",
              "        text-align: right;\n",
              "    }\n",
              "</style>\n",
              "<table border=\"1\" class=\"dataframe\">\n",
              "  <thead>\n",
              "    <tr style=\"text-align: right;\">\n",
              "      <th></th>\n",
              "      <th>PRODUCT</th>\n",
              "      <th>DRAW NUMBER</th>\n",
              "      <th>SEQUENCE NUMBER</th>\n",
              "      <th>DRAW DATE</th>\n",
              "      <th>NUMBER DRAWN 1</th>\n",
              "      <th>NUMBER DRAWN 2</th>\n",
              "      <th>NUMBER DRAWN 3</th>\n",
              "      <th>NUMBER DRAWN 4</th>\n",
              "      <th>NUMBER DRAWN 5</th>\n",
              "      <th>NUMBER DRAWN 6</th>\n",
              "      <th>BONUS NUMBER</th>\n",
              "    </tr>\n",
              "  </thead>\n",
              "  <tbody>\n",
              "    <tr>\n",
              "      <th>0</th>\n",
              "      <td>649</td>\n",
              "      <td>1</td>\n",
              "      <td>0</td>\n",
              "      <td>6/12/1982</td>\n",
              "      <td>3</td>\n",
              "      <td>11</td>\n",
              "      <td>12</td>\n",
              "      <td>14</td>\n",
              "      <td>41</td>\n",
              "      <td>43</td>\n",
              "      <td>13</td>\n",
              "    </tr>\n",
              "    <tr>\n",
              "      <th>1</th>\n",
              "      <td>649</td>\n",
              "      <td>2</td>\n",
              "      <td>0</td>\n",
              "      <td>6/19/1982</td>\n",
              "      <td>8</td>\n",
              "      <td>33</td>\n",
              "      <td>36</td>\n",
              "      <td>37</td>\n",
              "      <td>39</td>\n",
              "      <td>41</td>\n",
              "      <td>9</td>\n",
              "    </tr>\n",
              "    <tr>\n",
              "      <th>2</th>\n",
              "      <td>649</td>\n",
              "      <td>3</td>\n",
              "      <td>0</td>\n",
              "      <td>6/26/1982</td>\n",
              "      <td>1</td>\n",
              "      <td>6</td>\n",
              "      <td>23</td>\n",
              "      <td>24</td>\n",
              "      <td>27</td>\n",
              "      <td>39</td>\n",
              "      <td>34</td>\n",
              "    </tr>\n",
              "  </tbody>\n",
              "</table>\n",
              "</div>\n",
              "      <button class=\"colab-df-convert\" onclick=\"convertToInteractive('df-cb15fbad-27c6-4b64-8712-aded6f58b0c3')\"\n",
              "              title=\"Convert this dataframe to an interactive table.\"\n",
              "              style=\"display:none;\">\n",
              "        \n",
              "  <svg xmlns=\"http://www.w3.org/2000/svg\" height=\"24px\"viewBox=\"0 0 24 24\"\n",
              "       width=\"24px\">\n",
              "    <path d=\"M0 0h24v24H0V0z\" fill=\"none\"/>\n",
              "    <path d=\"M18.56 5.44l.94 2.06.94-2.06 2.06-.94-2.06-.94-.94-2.06-.94 2.06-2.06.94zm-11 1L8.5 8.5l.94-2.06 2.06-.94-2.06-.94L8.5 2.5l-.94 2.06-2.06.94zm10 10l.94 2.06.94-2.06 2.06-.94-2.06-.94-.94-2.06-.94 2.06-2.06.94z\"/><path d=\"M17.41 7.96l-1.37-1.37c-.4-.4-.92-.59-1.43-.59-.52 0-1.04.2-1.43.59L10.3 9.45l-7.72 7.72c-.78.78-.78 2.05 0 2.83L4 21.41c.39.39.9.59 1.41.59.51 0 1.02-.2 1.41-.59l7.78-7.78 2.81-2.81c.8-.78.8-2.07 0-2.86zM5.41 20L4 18.59l7.72-7.72 1.47 1.35L5.41 20z\"/>\n",
              "  </svg>\n",
              "      </button>\n",
              "      \n",
              "  <style>\n",
              "    .colab-df-container {\n",
              "      display:flex;\n",
              "      flex-wrap:wrap;\n",
              "      gap: 12px;\n",
              "    }\n",
              "\n",
              "    .colab-df-convert {\n",
              "      background-color: #E8F0FE;\n",
              "      border: none;\n",
              "      border-radius: 50%;\n",
              "      cursor: pointer;\n",
              "      display: none;\n",
              "      fill: #1967D2;\n",
              "      height: 32px;\n",
              "      padding: 0 0 0 0;\n",
              "      width: 32px;\n",
              "    }\n",
              "\n",
              "    .colab-df-convert:hover {\n",
              "      background-color: #E2EBFA;\n",
              "      box-shadow: 0px 1px 2px rgba(60, 64, 67, 0.3), 0px 1px 3px 1px rgba(60, 64, 67, 0.15);\n",
              "      fill: #174EA6;\n",
              "    }\n",
              "\n",
              "    [theme=dark] .colab-df-convert {\n",
              "      background-color: #3B4455;\n",
              "      fill: #D2E3FC;\n",
              "    }\n",
              "\n",
              "    [theme=dark] .colab-df-convert:hover {\n",
              "      background-color: #434B5C;\n",
              "      box-shadow: 0px 1px 3px 1px rgba(0, 0, 0, 0.15);\n",
              "      filter: drop-shadow(0px 1px 2px rgba(0, 0, 0, 0.3));\n",
              "      fill: #FFFFFF;\n",
              "    }\n",
              "  </style>\n",
              "\n",
              "      <script>\n",
              "        const buttonEl =\n",
              "          document.querySelector('#df-cb15fbad-27c6-4b64-8712-aded6f58b0c3 button.colab-df-convert');\n",
              "        buttonEl.style.display =\n",
              "          google.colab.kernel.accessAllowed ? 'block' : 'none';\n",
              "\n",
              "        async function convertToInteractive(key) {\n",
              "          const element = document.querySelector('#df-cb15fbad-27c6-4b64-8712-aded6f58b0c3');\n",
              "          const dataTable =\n",
              "            await google.colab.kernel.invokeFunction('convertToInteractive',\n",
              "                                                     [key], {});\n",
              "          if (!dataTable) return;\n",
              "\n",
              "          const docLinkHtml = 'Like what you see? Visit the ' +\n",
              "            '<a target=\"_blank\" href=https://colab.research.google.com/notebooks/data_table.ipynb>data table notebook</a>'\n",
              "            + ' to learn more about interactive tables.';\n",
              "          element.innerHTML = '';\n",
              "          dataTable['output_type'] = 'display_data';\n",
              "          await google.colab.output.renderOutput(dataTable, element);\n",
              "          const docLink = document.createElement('div');\n",
              "          docLink.innerHTML = docLinkHtml;\n",
              "          element.appendChild(docLink);\n",
              "        }\n",
              "      </script>\n",
              "    </div>\n",
              "  </div>\n",
              "  "
            ],
            "text/plain": [
              "   PRODUCT  DRAW NUMBER  ...  NUMBER DRAWN 6 BONUS NUMBER\n",
              "0      649            1  ...              43           13\n",
              "1      649            2  ...              41            9\n",
              "2      649            3  ...              39           34\n",
              "\n",
              "[3 rows x 11 columns]"
            ]
          },
          "metadata": {},
          "execution_count": 15
        }
      ]
    },
    {
      "cell_type": "code",
      "source": [
        "df.shape"
      ],
      "metadata": {
        "colab": {
          "base_uri": "https://localhost:8080/"
        },
        "id": "tOOPqKmf7xPN",
        "outputId": "e35ce166-bd0e-4695-9544-296ee092d5c0"
      },
      "execution_count": 104,
      "outputs": [
        {
          "output_type": "execute_result",
          "data": {
            "text/plain": [
              "(3665, 11)"
            ]
          },
          "metadata": {},
          "execution_count": 104
        }
      ]
    },
    {
      "cell_type": "markdown",
      "source": [
        "## 5. Function for Historical Data Check"
      ],
      "metadata": {
        "id": "mIj2T79O3sWu"
      }
    },
    {
      "cell_type": "markdown",
      "source": [
        "We've focused on opening and exploring the Canada lottery data set. We're now going to write a function that will enable users to compare their ticket against the historical lottery data in Canada and determine whether they would have ever won by now.\n",
        "\n",
        "The engineering team told us that we need to be aware of the following details:\n",
        "\n",
        "* Inside the app, the user inputs six different numbers from 1 to 49.\n",
        "* Under the hood, the six numbers will come as a Python list and serve as an input to our function.\n",
        "* The engineering team wants us to write a function that prints the number of times the combination selected occurred in the Canada data set; and\n",
        "the probability of winning the big prize in the next drawing with that combination.\n",
        "\n",
        "We'll now start working on writing this function. Note there's more than one way to solve this problem, so take the instructions below as suggestions.\n",
        "\n",
        "**Tasks**\n",
        "\n",
        "1. Extract all the winning six numbers from the historical data set as Python sets (set is a data type in Python).\n",
        "\n",
        "* Write a function named `extract_numbers()` that takes as input a row of the lottery dataframe and returns a set containing all the six winning numbers. For the first row, for instance, the function should return the set {3, 41, 11, 12, 43, 14}.\n",
        "* Use `extract_numbers()` in combination with the `DataFrame.apply()` method to extract all the winning numbers.\n",
        "\n",
        "2. Write a function named `check_historical_occurence()` that takes in two inputs: a Python list containing the user numbers and a pandas Series containing sets with the winning numbers (this is the Series you'll extract using the `extract_numbers()` function).\n",
        "\n",
        "* Convert the user numbers list as a set using the `set()` function.\n",
        "* Compare the set against the pandas Series that contains the sets with the winning numbers to find the number of matches — a Series of Boolean values will be returned as a result of the comparison (the value will be True each time there'll be a match).\n",
        "* Print information about the number of times the combination inputted by the user occurred in the past.\n",
        "* Print information (in an easy-to-understand way) about the probability of winning the big prize in the next drawing with that combination.\n",
        "\n",
        "3. Test your function with a few inputs.\n",
        "\n",
        "4. Add some context for your readers to explain what you did in this step and why."
      ],
      "metadata": {
        "id": "fKd8JZKB3wNq"
      }
    },
    {
      "cell_type": "code",
      "source": [
        "#Testing adding sets to a list\n",
        "b=[]\n",
        "a = {50,60}\n",
        "b.append(a)\n",
        "b.append({20,30,50})\n",
        "b.append({5,7,9})\n",
        "print(b[0])"
      ],
      "metadata": {
        "id": "M959lFjX4i1-",
        "colab": {
          "base_uri": "https://localhost:8080/"
        },
        "outputId": "d74cdbbc-22c5-42f6-a96b-dec2138d157b"
      },
      "execution_count": 50,
      "outputs": [
        {
          "output_type": "stream",
          "name": "stdout",
          "text": [
            "{50, 60}\n"
          ]
        }
      ]
    },
    {
      "cell_type": "code",
      "source": [
        "#Extract all winning sets\n",
        "def extract_numbers():\n",
        "  no_of_records = df[df.columns[0]].count()\n",
        "  numbers_drawn=[]\n",
        "  i = 0\n",
        "\n",
        "  while i<no_of_records:\n",
        "    a = {df[\"NUMBER DRAWN 1\"][i],df[\"NUMBER DRAWN 2\"][i],df[\"NUMBER DRAWN 3\"][i],df[\"NUMBER DRAWN 4\"][i],df[\"NUMBER DRAWN 5\"][i],df[\"NUMBER DRAWN 6\"][i]}\n",
        "    numbers_drawn.append(a)\n",
        "    i+=1\n",
        "  \n",
        "  return numbers_drawn\n",
        "\n"
      ],
      "metadata": {
        "id": "TcKVctteSxq0"
      },
      "execution_count": 13,
      "outputs": []
    },
    {
      "cell_type": "code",
      "source": [
        "#Extract specific row\n",
        "def extract_numbers_row(i):\n",
        "  if i>no_of_records >= df[df.columns[0]].count():\n",
        "    return None\n",
        "  else :\n",
        "    return {df[\"NUMBER DRAWN 1\"][i],df[\"NUMBER DRAWN 2\"][i],df[\"NUMBER DRAWN 3\"][i],df[\"NUMBER DRAWN 4\"][i],df[\"NUMBER DRAWN 5\"][i],df[\"NUMBER DRAWN 6\"][i]}"
      ],
      "metadata": {
        "id": "RgJC6KTulbHj"
      },
      "execution_count": 69,
      "outputs": []
    },
    {
      "cell_type": "code",
      "source": [
        "#Checking how many of users tickets were part of historical occurence\n",
        "def check_historical_occurence(user_tckts) :\n",
        "  i=0\n",
        "  historical_drawn_numbers = extract_numbers()\n",
        "  ticket_found_count = 0\n",
        "  while i<len(user_tckts):\n",
        "    j = 0\n",
        "    while j < len(historical_drawn_numbers):\n",
        "      if user_tckts[i]==historical_drawn_numbers[j]:\n",
        "        ticket_found_count = ticket_found_count + 1\n",
        "      j = j + 1\n",
        "    i = i + 1\n",
        "  \n",
        "  return ticket_found_count\n"
      ],
      "metadata": {
        "id": "99-tJanTspZo"
      },
      "execution_count": 12,
      "outputs": []
    },
    {
      "cell_type": "code",
      "source": [
        "#test checking historical occurences\n",
        "# print(extract_numbers())\n",
        "user_tickets=[{3, 41, 16, 12, 43, 14}, {33, 36, 37, 39, 8, 41}, {1, 3, 39, 23, 24, 27}, {3, 9, 10, 43, 13, 20}]\n",
        "\n",
        "print(check_historical_occurence(user_tickets))"
      ],
      "metadata": {
        "colab": {
          "base_uri": "https://localhost:8080/"
        },
        "id": "yznUk3L3tuOa",
        "outputId": "48edfffb-49ff-4088-cb8a-67cbe51ea26a"
      },
      "execution_count": 16,
      "outputs": [
        {
          "output_type": "stream",
          "name": "stdout",
          "text": [
            "2\n"
          ]
        }
      ]
    },
    {
      "cell_type": "markdown",
      "source": [
        "## 6. Multi-ticket Probability"
      ],
      "metadata": {
        "id": "DjHxdsHO4pfU"
      }
    },
    {
      "cell_type": "markdown",
      "source": [
        "So far, we wrote two functions:\n",
        "\n",
        "* `one_ticket_probability()` — calculates the probability of winning the big prize with a single ticket\n",
        "* `check_historical_occurrence()` — checks whether a certain combination has occurred in the Canada lottery data set\n",
        "\n",
        "Lottery addicts usually play more than one ticket on a single drawing, thinking that this might increase their chances of winning significantly. Our purpose is to help them better estimate their chances of winning — we're now going to write a function that will allow the users to calculate the chances of winning for any number of different tickets.\n",
        "\n",
        "We've talked with the engineering team and they gave us the following information:\n",
        "\n",
        "* The user will input the number of different tickets they want to play (without inputting the specific combinations they intend to play).\n",
        "* Our function will see an integer between 1 and 13,983,816 (the maximum number of different tickets).\n",
        "* The function should print information about the probability of winning the big prize depending on the number of different tickets played.\n",
        "\n",
        "Let's now start writing this function.\n",
        "\n",
        "**Tasks**\n",
        "\n",
        "1. Write a function named `multi_ticket_probability()` that prints the probability of winning the big prize depending on the number of different tickets played.\n",
        "\n",
        "* Start by calculating the total number of possible outcomes — this is total number of combinations for a six-number lottery ticket. There are 49 total numbers, and six numbers are sampled without replacement. Use the `combinations()` function.\n",
        "* The number of successful outcomes is given by the number of tickets the user intends to play.\n",
        "* Use the number of successful outcomes and the total number of possible outcomes to calculate the probability for the number of tickets inputted.\n",
        "* The function should print the probability in a way that's easy to understand. It's up to you what you choose, but here are a few suggestions:\n",
        "Print the probability as a percentage.\n",
        "Use the `str.format()` method to make the printed message more personalized with respect to what the user inputs.\n",
        "\n",
        "2. Test your function using the following inputs: `[1, 10, 100, 10000, 1000000, 6991908, 13983816]`.\n",
        "\n",
        "3. Add some context for your readers to explain what you did in this step and why."
      ],
      "metadata": {
        "id": "9Lc-A9lV4tKC"
      }
    },
    {
      "cell_type": "code",
      "source": [
        "def multi_ticket_probability(tickets_list):\n",
        "  total_outcomes = len(tickets_list)*combinations(49,6)\n",
        "  win_probability = \"{:.8f}\".format((1/total_outcomes)*100)\n",
        "  return \"The chance of one of your {no_of_tickets} tickets winning is {probability}%. Good Luck !\".format(probability = win_probability, no_of_tickets = len(tickets_list)) "
      ],
      "metadata": {
        "id": "tcZOK6wv5QZa"
      },
      "execution_count": 20,
      "outputs": []
    },
    {
      "cell_type": "code",
      "source": [
        "#testing multi_ticket_probability\n",
        "user_tickets=[{3, 41, 16, 12, 43, 14}, {33, 36, 37, 39, 8, 41}, {1, 3, 39, 23, 24, 27}, {3, 9, 10, 43, 13, 20}]\n",
        "print(multi_ticket_probability(user_tickets))"
      ],
      "metadata": {
        "colab": {
          "base_uri": "https://localhost:8080/"
        },
        "id": "nNwiljjgCLxo",
        "outputId": "f63aa491-886e-4aea-f35f-994135d0cf4d"
      },
      "execution_count": 21,
      "outputs": [
        {
          "output_type": "stream",
          "name": "stdout",
          "text": [
            "The chance of one of your 4 tickets winning is 0.00000179%. Good Luck !\n"
          ]
        }
      ]
    },
    {
      "cell_type": "markdown",
      "source": [
        "## 7. Less Winning Numbers - Function"
      ],
      "metadata": {
        "id": "6we3E3zt5a00"
      }
    },
    {
      "cell_type": "markdown",
      "source": [
        "So far, we wrote three main functions:\n",
        "\n",
        "* `one_ticket_probability()` — calculates the probability of winning the big prize with a single ticket\n",
        "* `check_historical_occurrence()` — checks whether a certain combination has occurred in the Canada lottery data set\n",
        "* `multi_ticket_probability()` — calculates the probability for any number of tickets between 1 and 13,983,816\n",
        "\n",
        "We're going to write one more function to allow the users to calculate probabilities for two, three, four, or five winning numbers.\n",
        "\n",
        "For extra context, in most 6/49 lotteries there are smaller prizes if a player's ticket match two, three, four, or five of the six numbers drawn. As a consequence, the users might be interested in knowing the probability of having two, three, four, or five winning numbers.\n",
        "\n",
        "These are the engineering details we'll need to be aware of:\n",
        "\n",
        "* Inside the app, the user inputs:\n",
        "six different numbers from 1 to 49; and\n",
        "an integer between 2 and 5 that represents the number of winning numbers expected.\n",
        "* Our function prints information about the probability of having the inputted number of winning numbers.\n",
        "To help you code this function, we'll guide you through calculating the probability for having exactly five winning numbers. First, we need to differentiate between these two probability questions:\n",
        "\n",
        "* What is the probability of having exactly five winning numbers?\n",
        "* What is the probability of having at least five winning numbers?\n",
        "For our purposes here, we want to answer the first question.\n",
        "\n",
        "For the sake of example, let's say a player chose these six numbers on a ticket: (1, 2, 3, 4 ,5 ,6). Out of these six numbers, we can form six five-number combinations:\n",
        "```\n",
        "(1, 2, 3, 4, 5)\n",
        "(1, 2, 3, 4, 6)\n",
        "(1, 2, 3, 5, 6)\n",
        "(1, 2, 4, 5, 6)\n",
        "(1, 3, 4, 5, 6)\n",
        "(2, 3, 4, 5, 6)\n",
        "```\n",
        "We can also find the total number of five-number combinations.\n",
        "\n",
        "For each one of the six five-number combinations above, there are 44 possible successful outcomes in a lottery drawing. For the combination (1, 2, 3, 4, 5), for instance, there are 44 lottery outcomes that would return a prize:\n",
        "```\n",
        "(1, 2, 3, 4, 5, 6)\n",
        "(1, 2, 3, 4, 5, 7)\n",
        "...\n",
        "(1, 2, 3, 4, 5, 30)\n",
        "(1, 2, 3, 4, 5, 31)\n",
        "...\n",
        "(1, 2, 3, 4, 5, 49)\n",
        "```\n",
        "However, we need to leave out the outcome (1, 2, 3, 4, 5, 6) because we're only interested in outcomes that match exactly five numbers, not at least five numbers. This means that for each of our six five-number combinations we have 43 possible successful outcomes, not 44.\n",
        "\n",
        "Since there are six five-number combinations and each combination corresponds to 43 successful outcomes, we need to multiply 6 by 43 to find the total number of successful outcomes:\n",
        "```\n",
        "6 × 43 = 258\n",
        "```\n",
        "Since there are 258 successful outcomes and there are 13,983,816 total possible outcomes, the probability of having exactly five winning numbers for a single lottery ticket is:\n",
        "\n",
        "```\n",
        "P (5-winning numbers) = 258 (49 6) = 0.00001845\n",
        "```\n",
        "\n",
        "Now let's try to code the function. To calculate the probabilities, we tell the engineering team that the specific combination on the ticket is irrelevant behind the scenes, and we only need the integer between 2 and 5 representing the number of winning numbers expected.\n",
        "\n",
        "\n",
        "**Tasks**\n",
        "\n",
        "1. Write a function named `probability_less_6()` which takes in an integer between 2 and 5 and prints information about the chances of winning depending on the value of that integer.\n",
        "\n",
        "* First, calculate the number of successful outcomes given the value of the input. We already covered how to calculate this when the input is 5 — when the input is lower, we need to take the same approach (but be careful, the number of combinations will vary).\n",
        "\n",
        "* Second, calculate the number of total possible outcomes.\n",
        "* Calculate the probability using the number of successful outcomes and the number of total possible outcomes.\n",
        "* Display the probability value in a way that will be easy to understand for the user.\n",
        "\n",
        "2. Test your function on all possible inputs: 2, 3, 4, and 5.\n",
        "\n",
        "3. Add some context for your readers to explain what you did in this step and why."
      ],
      "metadata": {
        "id": "FVB7WXD95gTe"
      }
    },
    {
      "cell_type": "code",
      "source": [
        "def probability_less_6(n):\n",
        "  if n> 6:\n",
        "    return None\n",
        "  n_total_outcomes = combinations(6,n)\n",
        "  total_outcomes = combinations(49,6)\n",
        "  win_probability = \"{:.8f}\".format((n_total_outcomes/total_outcomes)*100)\n",
        "  return \"The chance of your ticket winning for any {n_less} numbers is {probability}%. Good Luck !\".format(probability = win_probability, n_less = n) \n",
        "\n"
      ],
      "metadata": {
        "id": "4jkhatCB668N"
      },
      "execution_count": 24,
      "outputs": []
    },
    {
      "cell_type": "code",
      "source": [
        "print(probability_less_6(5))"
      ],
      "metadata": {
        "colab": {
          "base_uri": "https://localhost:8080/"
        },
        "id": "ITFr831XJlUT",
        "outputId": "7ad2d812-df0d-4e3a-f9d0-1b0b6b6ee428"
      },
      "execution_count": 27,
      "outputs": [
        {
          "output_type": "stream",
          "name": "stdout",
          "text": [
            "The chance of your ticket winning for any 5 numbers is 0.00004291%. Good Luck !\n"
          ]
        }
      ]
    },
    {
      "cell_type": "markdown",
      "source": [
        "## 8. Next Steps"
      ],
      "metadata": {
        "id": "u5PklErZ7FQ3"
      }
    },
    {
      "cell_type": "markdown",
      "source": [
        "That was all for the guided part of the project! We managed to write four main functions for our app:\n",
        "\n",
        "* `one_ticket_probability()` — calculates the probability of winning the big prize with a single ticket.\n",
        "* `check_historical_occurrence()` — checks whether a certain combination has occurred in the Canada lottery data set.\n",
        "* `multi_ticket_probability()` — calculates the probability for any number of of tickets between 1 and 13,983,816.\n",
        "* `probability_less_6()` — calculates the probability of having two, three, four or five winning numbers.\n",
        "\n",
        "Possible features for a second version of the app include:\n",
        "\n",
        "* Making the outputs even easier to understand by adding fun analogies (for example, we can find probabilities for strange events and compare with the chances of winning in lottery; for instance, we can output something along the lines \"You are 100 times more likely to be the victim of a shark attack than winning the lottery\").\n",
        "* Combining the `one_ticket_probability()` and `check_historical_occurrence()` to output information on probability and historical occurrence at the same time.\n",
        "* Creating a function similar to `probability_less_6()` which calculates the probability of having at least two, three, four or five winning numbers. Hint: the number of successful outcomes for having at least four winning numbers is the sum of these three numbers: The number of successful outcomes for having four winning numbers exactly, the number of successful outcomes for having five winning numbers exactly, the number of successful outcomes for having six winning numbers exactly."
      ],
      "metadata": {
        "id": "hxy3aaQI7IwE"
      }
    }
  ]
}